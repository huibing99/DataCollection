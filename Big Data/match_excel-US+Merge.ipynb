{
 "cells": [
  {
   "cell_type": "code",
   "execution_count": 1,
   "metadata": {},
   "outputs": [],
   "source": [
    "import jsonlines\n",
    "import time\n",
    "import csv\n",
    "import codecs\n",
    "import pandas as pd"
   ]
  },
  {
   "cell_type": "code",
   "execution_count": 5,
   "metadata": {},
   "outputs": [],
   "source": [
    "for i_ in range(548):\n",
    "    # 读入数据\n",
    "    data = pd.read_csv('E:/Vaccine Data/CSVData/data_United States/data_United States_%s.csv'%i_, sep=',')\n",
    "    # 插入表头\n",
    "    data.insert(data.shape[1], 'tweet_timestamp', 0)\n",
    "    data.insert(data.shape[1], 'valence_intensity', 0)\n",
    "    data.insert(data.shape[1], 'fear_intensity', 0)\n",
    "    data.insert(data.shape[1], 'anger_intensity', 0)\n",
    "    data.insert(data.shape[1], 'happiness_intensity', 0)\n",
    "    data.insert(data.shape[1], 'sadness_intensity', 0)\n",
    "    data.insert(data.shape[1], 'sentiment', 0)\n",
    "    data.insert(data.shape[1], 'emotion', 0)\n",
    "    \n",
    "    # [\"tweet_id\", \"full_text\", \"keywords\", \"user_id\", \"location\"]\n",
    "    \n",
    "    \n",
    "    # 读入情感分析数据\n",
    "    origin_data = pd.read_csv('E:/Vaccine Data/ExcelData/United States/United States_%s.txt'%i_, sep=',', header = None, \n",
    "                              names = [\"tweet_id\", \"user_id\", \"tweet_timestamp\", \"keyword\", \"valence_intensity\", \"fear_intensity\", \"anger_intensity\", \"happiness_intensity\", \"sadness_intensity\", \"sentiment\", \"emotion\"])\n",
    "\n",
    "    # 匹配\n",
    "    for idx, it in data.iterrows():\n",
    "        tweet_id = it[0]\n",
    "        data_ = origin_data.loc[origin_data['tweet_id'] == tweet_id].values[0]\n",
    "        it[5] = data_[2]\n",
    "        for i in range(4, 11):\n",
    "            it[i+2] = data_[i]\n",
    "        data.iloc[idx] = it \n",
    "\n",
    "    # 写出文件\n",
    "    data.to_csv(\"E:/Vaccine Data/MatchedData/United States/data_United States_%s.csv\"%i_,index=False,sep='\\t')"
   ]
  },
  {
   "cell_type": "code",
   "execution_count": 6,
   "metadata": {},
   "outputs": [],
   "source": [
    "for i_ in range(548):\n",
    "    # 读入数据\n",
    "    data = pd.read_csv('E:/Vaccine Data/MatchedData/United States/data_United States_%s.csv'%i_, sep='\\t')\n",
    "    # 写出文件\n",
    "    data.to_csv(\"E:/Vaccine Data/MatchedData/data_United States.csv\", mode = \"a+\", index=False, header = None, sep='\\t')"
   ]
  },
  {
   "cell_type": "code",
   "execution_count": 7,
   "metadata": {},
   "outputs": [],
   "source": [
    "data = pd.read_csv(\"E:/Vaccine Data/MatchedData/data_United States.csv\", header = None, sep='\\t', \n",
    "                   names = [\"tweet_id\", \"full_text\", \"keywords\", \"user_id\", \"location\", \"tweet_timestamp\",  \"valence_intensity\", \"fear_intensity\", \"anger_intensity\", \"happiness_intensity\", \"sadness_intensity\", \"sentiment\", \"emotion\"])"
   ]
  },
  {
   "cell_type": "code",
   "execution_count": 8,
   "metadata": {},
   "outputs": [],
   "source": [
    "data.to_csv(\"E:/Vaccine Data/MatchedData/data_United States(all).csv\", mode = \"a+\", index=False, sep='\\t')"
   ]
  },
  {
   "cell_type": "code",
   "execution_count": null,
   "metadata": {},
   "outputs": [],
   "source": []
  }
 ],
 "metadata": {
  "kernelspec": {
   "display_name": "Python 3",
   "language": "python",
   "name": "python3"
  },
  "language_info": {
   "codemirror_mode": {
    "name": "ipython",
    "version": 3
   },
   "file_extension": ".py",
   "mimetype": "text/x-python",
   "name": "python",
   "nbconvert_exporter": "python",
   "pygments_lexer": "ipython3",
   "version": "3.7.0"
  }
 },
 "nbformat": 4,
 "nbformat_minor": 2
}

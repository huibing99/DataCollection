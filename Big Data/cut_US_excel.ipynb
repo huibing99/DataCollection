{
 "cells": [
  {
   "cell_type": "code",
   "execution_count": 1,
   "metadata": {},
   "outputs": [],
   "source": [
    "import jsonlines\n",
    "import time\n",
    "import csv\n",
    "import codecs\n",
    "import pandas as pd"
   ]
  },
  {
   "cell_type": "code",
   "execution_count": 2,
   "metadata": {},
   "outputs": [],
   "source": [
    "cnt = 0\n",
    "size = 100000  #每个块的id条数\n",
    "\n",
    "flag = 0\n",
    "with open('E:/Vaccine Data/ExcelData/tweetid_userid_keyword_sentiments_emotions_United States.csv','r') as f:\n",
    "    for line in f:\n",
    "        if flag == 0:\n",
    "            flag = 1\n",
    "            continue\n",
    "        with open('E:/Vaccine Data/ExcelData/United States/United States_%d.txt'%(cnt//size),'a+')as tmp:\n",
    "            tmp.write(line)\n",
    "            cnt += 1            "
   ]
  },
  {
   "cell_type": "code",
   "execution_count": null,
   "metadata": {},
   "outputs": [],
   "source": [
    "data3.to_csv(\"E:/Vaccine Data/MatchedData/data_United Kingdom.csv\",index=False,sep='\\t')"
   ]
  },
  {
   "cell_type": "code",
   "execution_count": null,
   "metadata": {},
   "outputs": [],
   "source": []
  }
 ],
 "metadata": {
  "kernelspec": {
   "display_name": "Python 3",
   "language": "python",
   "name": "python3"
  },
  "language_info": {
   "codemirror_mode": {
    "name": "ipython",
    "version": 3
   },
   "file_extension": ".py",
   "mimetype": "text/x-python",
   "name": "python",
   "nbconvert_exporter": "python",
   "pygments_lexer": "ipython3",
   "version": "3.7.0"
  }
 },
 "nbformat": 4,
 "nbformat_minor": 2
}

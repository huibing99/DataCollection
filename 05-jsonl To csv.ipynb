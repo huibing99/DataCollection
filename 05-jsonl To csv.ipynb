{
 "cells": [
  {
   "cell_type": "code",
   "execution_count": 2,
   "metadata": {},
   "outputs": [],
   "source": [
    "import jsonlines\n",
    "import time\n",
    "import csv\n",
    "import codecs"
   ]
  },
  {
   "cell_type": "code",
   "execution_count": 3,
   "metadata": {},
   "outputs": [],
   "source": [
    "nations = [\"Argentina\", \"Australia\", \"Brazil\", \"Canada\", \"Colombia\", \"Denmark\", \"France\", \"India\", \"Indonesia\", \"Iran\",\n",
    "           \"Ireland\", \"Italy\", \"Japan\", \"Kenya\", \"Malaysia\", \"New Zealand\", \"Nigeria\", \"Pakistan\", \"Philippines\", \"Russia\", \n",
    "          \"Singapore\", \"South Africa\", \"South Korea\", \"Spain\", \"Thailand\", \"Turkey\", \"Vietnam\"]\n",
    "\n",
    "keywords = [\"vaccin\", \"#antivax\", \"#getvax\", \"#vaxxed\", \"#covidvax\", \"Pfizer\", \"BioNTech\", \"Moderna\", \"mRNA-1273\", \n",
    "            \"Johnson & Johnson\", \"J&J\", \"Janssen\", \"AstraZeneca\", \"Vaxzevria\", \"AZD1222\", \"Novavax\", \"Covavax\", \"Sinovac\", \n",
    "            \"Comirnaty\", \"Sinopharm\", \"SII\", \"Covishield\"]"
   ]
  },
  {
   "cell_type": "code",
   "execution_count": 7,
   "metadata": {},
   "outputs": [],
   "source": [
    "for nation in nations:\n",
    "    \n",
    "    # 打开写入文件\n",
    "    outfile = codecs.open('E:/Vaccine Data/CSVData/data_%s.csv'%nation, 'a+', encoding = 'utf-8')\n",
    "    csv_writer = csv.writer(outfile, lineterminator='\\n')\n",
    "    \n",
    "    #写入表头\n",
    "    csv_writer.writerow([\"tweet_id\", \"full_text\", \"Keywords\"])\n",
    "    \n",
    "    # 读入jsonl并逐行写入csv文件\n",
    "    with jsonlines.open('E:/Vaccine Data/FilteredData/data_%s.jsonl'%nation) as reader:\n",
    "        for obj in reader:\n",
    "            # 搜索疫苗关键字\n",
    "            kw = \"\"\n",
    "            for word in keywords:\n",
    "                if word in obj[\"full_text\"]:\n",
    "                    kw += word + \" \"\n",
    "            row = [obj['id_str'], '%r'%str(obj[\"full_text\"]), kw]\n",
    "            csv_writer.writerow(row)\n",
    "    outfile.close()"
   ]
  },
  {
   "cell_type": "code",
   "execution_count": 8,
   "metadata": {},
   "outputs": [],
   "source": [
    "# United Kingdom\n",
    "\n",
    "# 打开写入文件\n",
    "outfile = codecs.open('E:/Vaccine Data/CSVData/data_United Kingdom.csv', 'a+', encoding = 'utf-8')\n",
    "csv_writer = csv.writer(outfile, lineterminator='\\n')\n",
    "\n",
    "#写入表头\n",
    "csv_writer.writerow([\"tweet_id\", \"full_text\", \"Keywords\"])\n",
    "\n",
    "# 读入jsonl并逐行写入csv文件\n",
    "with jsonlines.open('E:/Vaccine Data/FilteredData/data_United Kingdom.jsonl') as reader:\n",
    "    for obj in reader:\n",
    "        # 搜索疫苗关键字\n",
    "        kw = \"\"\n",
    "        for word in keywords:\n",
    "            if word in obj[\"full_text\"]:\n",
    "                kw += word + \" \"\n",
    "        row = [obj['id_str'], '%r'%str(obj[\"full_text\"]), kw]\n",
    "        csv_writer.writerow(row)\n",
    "outfile.close()"
   ]
  },
  {
   "cell_type": "code",
   "execution_count": 10,
   "metadata": {},
   "outputs": [],
   "source": [
    "# United States\n",
    "\n",
    "# 打开写入文件\n",
    "outfile = codecs.open('E:/Vaccine Data/CSVData/data_UnitedStates.csv', 'a+', encoding = 'utf-8')\n",
    "csv_writer = csv.writer(outfile, lineterminator='\\n')\n",
    "\n",
    "#写入表头\n",
    "csv_writer.writerow([\"tweet_id\", \"full_text\", \"Keywords\"])\n",
    "\n",
    "# 读入jsonl并逐行写入csv文件\n",
    "with jsonlines.open('E:/Vaccine Data/FilteredData/data_UnitedStates.jsonl') as reader:\n",
    "    for obj in reader:\n",
    "        # 搜索疫苗关键字\n",
    "        kw = \"\"\n",
    "        for word in keywords:\n",
    "            if word in obj[\"full_text\"]:\n",
    "                kw += word + \" \"\n",
    "        row = [obj['id_str'], '%r'%str(obj[\"full_text\"]), kw]\n",
    "        csv_writer.writerow(row)\n",
    "outfile.close()"
   ]
  },
  {
   "cell_type": "code",
   "execution_count": 7,
   "metadata": {},
   "outputs": [],
   "source": [
    "# United States  batch\n",
    "\n",
    "# 打开写入文件\n",
    "\n",
    "for i in range(548):\n",
    "    outfile = codecs.open('E:/Vaccine Data/CSVData/data_United States/data_United States_%s.csv'%i, 'a+', encoding = 'utf-8')\n",
    "    csv_writer = csv.writer(outfile, lineterminator='\\n')\n",
    "\n",
    "    #写入表头\n",
    "    csv_writer.writerow([\"tweet_id\", \"full_text\", \"keywords\", \"user_id\", \"location\"])\n",
    "\n",
    "    # 读入jsonl并逐行写入csv文件\n",
    "    with jsonlines.open('E:/Vaccine Data/FilteredData/data_United States/data_United States_%s.jsonl'%i) as reader:\n",
    "        for obj in reader:\n",
    "            # 搜索疫苗关键字\n",
    "            kw = \"\"\n",
    "            for word in keywords:\n",
    "                if word in obj[\"full_text\"]:\n",
    "                    kw += word + \" \"\n",
    "            row = [obj['id_str'], '%r'%str(obj[\"full_text\"]), kw, obj[\"user\"][\"id\"], obj[\"user\"][\"location\"]]\n",
    "            csv_writer.writerow(row)\n",
    "outfile.close()"
   ]
  },
  {
   "cell_type": "code",
   "execution_count": 10,
   "metadata": {},
   "outputs": [],
   "source": [
    "# United Kingdom  batch\n",
    "\n",
    "# 打开写入文件\n",
    "\n",
    "for i in range(146):\n",
    "    outfile = codecs.open('E:/Vaccine Data/CSVData/data_United Kingdom/data_United Kingdom_%s.csv'%i, 'a+', encoding = 'utf-8')\n",
    "    csv_writer = csv.writer(outfile, lineterminator='\\n')\n",
    "\n",
    "    #写入表头\n",
    "    csv_writer.writerow([\"tweet_id\", \"full_text\", \"Keywords\"])\n",
    "\n",
    "    # 读入jsonl并逐行写入csv文件\n",
    "    with jsonlines.open('E:/Vaccine Data/FilteredData/data_United Kingdom/data_United Kingdom_%s.jsonl'%i) as reader:\n",
    "        for obj in reader:\n",
    "            # 搜索疫苗关键字\n",
    "            kw = \"\"\n",
    "            for word in keywords:\n",
    "                if word in obj[\"full_text\"]:\n",
    "                    kw += word + \" \"\n",
    "            row = [obj['id_str'], '%r'%str(obj[\"full_text\"]), kw]\n",
    "            csv_writer.writerow(row)\n",
    "outfile.close()"
   ]
  },
  {
   "cell_type": "code",
   "execution_count": null,
   "metadata": {},
   "outputs": [],
   "source": []
  }
 ],
 "metadata": {
  "kernelspec": {
   "display_name": "Python 3",
   "language": "python",
   "name": "python3"
  },
  "language_info": {
   "codemirror_mode": {
    "name": "ipython",
    "version": 3
   },
   "file_extension": ".py",
   "mimetype": "text/x-python",
   "name": "python",
   "nbconvert_exporter": "python",
   "pygments_lexer": "ipython3",
   "version": "3.7.0"
  }
 },
 "nbformat": 4,
 "nbformat_minor": 2
}

{
 "cells": [
  {
   "cell_type": "code",
   "execution_count": 1,
   "metadata": {},
   "outputs": [],
   "source": [
    "import csv"
   ]
  },
  {
   "cell_type": "code",
   "execution_count": 13,
   "metadata": {},
   "outputs": [],
   "source": [
    "# nations = [\"Argentina\", \"Australia\", \"Brazil\", \"Canada\", \"Colombia\", \"Denmark\", \"France\", \"India\", \"Indonesia\", \"Iran\",\n",
    "#            \"Ireland\", \"Italy\", \"Japan\", \"Kenya\", \"Malaysia\", \"New Zealand\", \"Nigeria\", \"Pakistan\", \"Philippines\", \"Russia\", \n",
    "#           \"Singapore\", \"South Africa\", \"South Korea\", \"Spain\", \"Thailand\", \"Turkey\", \"United Kingdom\", \"United States\", \"Vietnam\"]\n",
    "\n",
    "\n",
    "nations = [\"United Kingdom\", \"United States\"]\n",
    "\n",
    "for i in nations:\n",
    "    flag = 0\n",
    "    with open(\"D:/Vaccine Data/data/tweetid_userid_keyword_sentiments_emotions_%s.csv\"%i) as infile:\n",
    "        for line in infile:\n",
    "            if flag == 1:\n",
    "                with open(\"D:/Vaccine Data/tweeid/tweeid_%s.txt\"%i, \"a\") as outfile:\n",
    "                    outfile.write(line.split(\",\")[0])\n",
    "                    outfile.write(\"\\n\")\n",
    "            flag = 1\n",
    "    outfile.close()"
   ]
  },
  {
   "cell_type": "code",
   "execution_count": 12,
   "metadata": {},
   "outputs": [],
   "source": [
    "flag = 0\n",
    "with open(\"D:/Vaccine Data/data/tweetid_userid_keyword_topics_sentiments_emotions(full).csv\") as infile:\n",
    "    for line in infile:\n",
    "        with open(\"D:/Vaccine Data/tweeid/tweeid(full).txt\", \"a\") as outfile:\n",
    "            outfile.write(line.split(\",\")[0])\n",
    "            outfile.write(\"\\n\")"
   ]
  },
  {
   "cell_type": "code",
   "execution_count": null,
   "metadata": {},
   "outputs": [],
   "source": []
  }
 ],
 "metadata": {
  "kernelspec": {
   "display_name": "Python 3",
   "language": "python",
   "name": "python3"
  },
  "language_info": {
   "codemirror_mode": {
    "name": "ipython",
    "version": 3
   },
   "file_extension": ".py",
   "mimetype": "text/x-python",
   "name": "python",
   "nbconvert_exporter": "python",
   "pygments_lexer": "ipython3",
   "version": "3.7.0"
  }
 },
 "nbformat": 4,
 "nbformat_minor": 5
}

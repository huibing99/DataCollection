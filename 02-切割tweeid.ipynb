{
 "cells": [
  {
   "cell_type": "code",
   "execution_count": 2,
   "metadata": {},
   "outputs": [],
   "source": [
    "cnt = 0\n",
    "size = 100000  #每个块的id条数\n",
    "with open('D:/Vaccine Data/tweeid/tweeid_United Kingdom.txt','r') as f:\n",
    "    lines = f.readlines()\n",
    "    for index,line in enumerate(lines,1):\n",
    "        with open('D:/Vaccine Data/tweeid/tweeid_United Kingdom/tweeid_United_Kingdom_%d.txt'%(cnt//size),'a+')as tmp:\n",
    "            tmp.write(line)\n",
    "            cnt += 1"
   ]
  },
  {
   "cell_type": "code",
   "execution_count": null,
   "metadata": {},
   "outputs": [],
   "source": []
  }
 ],
 "metadata": {
  "kernelspec": {
   "display_name": "Python 3",
   "language": "python",
   "name": "python3"
  },
  "language_info": {
   "codemirror_mode": {
    "name": "ipython",
    "version": 3
   },
   "file_extension": ".py",
   "mimetype": "text/x-python",
   "name": "python",
   "nbconvert_exporter": "python",
   "pygments_lexer": "ipython3",
   "version": "3.7.0"
  }
 },
 "nbformat": 4,
 "nbformat_minor": 2
}
